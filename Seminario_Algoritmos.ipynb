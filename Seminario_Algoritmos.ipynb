{
  "cells": [
    {
      "cell_type": "markdown",
      "metadata": {
        "id": "hVbXYX-RfPWh"
      },
      "source": [
        "# Algoritmos de optimización - Seminario<br>\n",
        "Nombre y Apellidos: Antoni Climent Muñoz  <br>\n",
        "Url: https://github.com/antoni-climent/Trabajo_algoritmos_optimizacion.git<br>\n",
        "Problema:\n",
        "> 1. Sesiones de doblaje <br>\n",
        "> 2. ~~Organizar los horarios de partidos de La Liga~~<br>\n",
        "> 3. ~~Combinar cifras y operaciones~~\n",
        "\n",
        "Descripción del problema:(copiar enunciado)\n",
        "\n",
        "Se precisa coordinar el doblaje de una película. Los actores del doblaje deben coincidir en las\n",
        "tomas en las que sus personajes aparecen juntos en las diferentes tomas. Los actores de\n",
        "doblaje cobran toda la misma cantidad por cada día que deben desplazarse hasta el estudio de\n",
        "grabación independientemente del número de tomas que se graben. No es posible grabar más\n",
        "de 6 tomas por día. El objetivo es planificar las sesiones por día de manera que el gasto por los\n",
        "servicios de los actores de doblaje sea el menor posible.\n",
        "\n",
        "(*) La respuesta es obligatoria\n",
        "\n",
        "\n",
        "\n",
        "\n",
        "\n",
        "                                        "
      ]
    },
    {
      "cell_type": "markdown",
      "metadata": {
        "id": "3_-exlrTgLd-"
      },
      "source": [
        "(*)¿Cuantas posibilidades hay sin tener en cuenta las restricciones?<br>\n",
        "\n",
        "\n",
        "\n",
        "¿Cuantas posibilidades hay teniendo en cuenta todas las restricciones.\n",
        "\n",
        "\n"
      ]
    },
    {
      "cell_type": "markdown",
      "metadata": {
        "id": "WfCUqJyKhPcw"
      },
      "source": [
        "Respuesta"
      ]
    },
    {
      "cell_type": "markdown",
      "metadata": {
        "id": "iq6Fe32MgpDX"
      },
      "source": [
        "Como tenemos 30 tomas a grabar y cada día se pueden completar 6, vamos a definir el problema como la creación del horario de 5 días.\n",
        "Al utilizar una estrategia de fuerza bruta, miraremos todas las posibles soluciones que hay, guardando la mejor encontrada hasta el momento. Como tenemos 30 tomas y cada toma puede estar en cualquier día, si no tenemos en cuenta ninguna restricción vamos a tener 30! posibles permutaciones. \n",
        "\n",
        "No obstante, permutar tomas dentro del mismo día no afecta a la solución del problema. Teniendo en cuenta este hecho, vemos que cada toma estará relacionada con uno de los cinco valores distintos (uno por cada día), con lo que habrá 5<sup>30</sup> posibles soluciones."
      ]
    },
    {
      "cell_type": "markdown",
      "metadata": {
        "id": "dzynfVJahHoY"
      },
      "source": [
        "Modelo para el espacio de soluciones<br>\n",
        "(*) ¿Cual es la estructura de datos que mejor se adapta al problema? Argumentalo.(Es posible que hayas elegido una al principio y veas la necesidad de cambiar, arguentalo)\n"
      ]
    },
    {
      "cell_type": "markdown",
      "metadata": {
        "id": "xFIJrOwKi2Ti"
      },
      "source": [
        "Respuesta"
      ]
    },
    {
      "cell_type": "markdown",
      "metadata": {
        "id": "38c-7-ejhJmA"
      },
      "source": [
        "En este problema se necesitan como mínimo dos estructuras de datos. Una que contenga la solución y otra con la asignación de actores para cada toma.\n",
        "Para la primera, hemos utilizado un array de 30 elementos, uno por cada toma. Esta decisión de debe a la simplicidad de la representación y porque para ver las asignaciones de cada día solo hay que hacer un reshape del array a dimensión (5,6). Por otro lado, para guardar las restricciones del problema (la asignación toma-actor) hemos utilizado el mismo formato que se nos ha dado, una tabla. De esta forma es fácil de acceder a todos los actores que aparecen en una toma, pues basta con mirar la fila correspondiente."
      ]
    },
    {
      "cell_type": "markdown",
      "metadata": {
        "id": "7Z9U2W7bi-XS"
      },
      "source": [
        "Según el modelo para el espacio de soluciones<br>\n",
        "(*)¿Cual es la función objetivo?\n",
        "\n",
        "(*)¿Es un problema de maximización o minimización?"
      ]
    },
    {
      "cell_type": "markdown",
      "metadata": {
        "id": "hBalWLM7j1_d"
      },
      "source": [
        "Respuesta"
      ]
    },
    {
      "cell_type": "markdown",
      "metadata": {
        "id": "pDA-rg3Gj5Lz"
      },
      "source": [
        "La función objetivo está definida con el nombre \"compute_cost\", que toma una propuesta de horario y calcula el total de desplazamientos de los actores a lo largo de los 5 días. Como define el problema, esta variable es la que queremos minimizar, para abaratar los costes del doblaje."
      ]
    },
    {
      "cell_type": "markdown",
      "metadata": {
        "id": "rlnTYgY1j6I2"
      },
      "source": [
        "Diseña un algoritmo para resolver el problema por fuerza bruta"
      ]
    },
    {
      "cell_type": "markdown",
      "metadata": {
        "id": "70rDgxYXkC8r"
      },
      "source": [
        "Respuesta"
      ]
    },
    {
      "cell_type": "code",
      "execution_count": 3,
      "metadata": {
        "id": "CJb5sQ0qkENy"
      },
      "outputs": [],
      "source": [
        "import pandas as pd\n",
        "import numpy as np\n",
        "from itertools import permutations"
      ]
    },
    {
      "cell_type": "code",
      "execution_count": 4,
      "metadata": {},
      "outputs": [],
      "source": [
        "# Function to compute the cost of a given schedule\n",
        "def compute_cost(perm, data):\n",
        "    perm = perm.reshape(5,6) # The schedule consists of 5 days and 6 sessions per day\n",
        "    actor = np.zeros((5,10))\n",
        "    for i, tomas in enumerate(perm):\n",
        "        for toma in tomas:\n",
        "            actor[i] = actor[i] + data[toma-1] # Counts the number of actors per day\n",
        "    return sum([1 if a > 0 else 0 for a in actor.flatten()]) # Returns the cost of the schedule"
      ]
    },
    {
      "cell_type": "code",
      "execution_count": 6,
      "metadata": {},
      "outputs": [
        {
          "name": "stdout",
          "output_type": "stream",
          "text": [
            "Min cost found: 36\n"
          ]
        }
      ],
      "source": [
        "# To implement the algorithm by brute force, we will do all possible permutations of the schedule.\n",
        "# Notice that it can not be fully executed, as there are 30! permutations.\n",
        "data = pd.read_csv('data.csv', index_col=0) # Load the data\n",
        "array = np.array([i for i in range(1, 31)]) # Create an schedule example, so that we can get all the permutations\n",
        "perms = permutations(array) # Iterable object\n",
        "\n",
        "\n",
        "min_cost = 10000\n",
        "for t, perm in enumerate(perms):\n",
        "    c = compute_cost(np.array(perm), np.array(data))\n",
        "    if c < min_cost:\n",
        "        min_cost = c\n",
        "    if t == 100000: # We put a counter to stop the loop after 100000 iterations, as otherwise the computer crashes.\n",
        "        break\n",
        "print(f'Min cost found: {min_cost}') # The minimum cost found"
      ]
    },
    {
      "cell_type": "markdown",
      "metadata": {
        "id": "tgrnsC2nkFa8"
      },
      "source": [
        "Calcula la complejidad del algoritmo por fuerza bruta"
      ]
    },
    {
      "cell_type": "markdown",
      "metadata": {
        "id": "9eUd3xwckP68"
      },
      "source": [
        "Respuesta"
      ]
    },
    {
      "cell_type": "markdown",
      "metadata": {
        "id": "rvZWwL-ckRST"
      },
      "source": [
        "Nuestra implementación por fuerza bruta no tiene en cuenta ninguna restricción, simplemente va generando todas las posibles soluciones al problema y calcula su coste, guardando siempre el mínimo encontrado hasta el momento. Esto significa, como hemos visto en la pregunta sobre las posibilidades del problema, que la complejidad va a ser O(n!), siendo n el número de tomas a realizar. \n"
      ]
    },
    {
      "cell_type": "markdown",
      "metadata": {
        "id": "txbrmLmskReM"
      },
      "source": [
        "(*)Diseña un algoritmo que mejore la complejidad del algortimo por fuerza bruta. Argumenta porque crees que mejora el algoritmo por fuerza bruta"
      ]
    },
    {
      "cell_type": "markdown",
      "metadata": {
        "id": "hLrVwt5QkZPD"
      },
      "source": [
        "Respuesta"
      ]
    },
    {
      "cell_type": "code",
      "execution_count": 15,
      "metadata": {
        "id": "m1eyM21Vkabg"
      },
      "outputs": [],
      "source": [
        "# Genetic algorithm \n",
        "def genetic_algorithm(best_popu):\n",
        "    data = pd.read_csv('data.csv', index_col=0) # Load problem data\n",
        "    # Start the genetic algorithm\n",
        "    for generation in range(15): # Number of generations\n",
        "        # Generate new individuals\n",
        "        new_popu = np.empty((0, 30))\n",
        "        for i in range(len(best_popu)):\n",
        "            for j in range(10):\n",
        "                new_ind = best_popu[i].copy()\n",
        "                ind1 = np.random.randint(0, 30)\n",
        "                ind2 = np.random.randint(0, 30)\n",
        "                new_ind[ind1], new_ind[ind2] = new_ind[ind2], new_ind[ind1]\n",
        "                new_popu = np.vstack([new_popu, new_ind])\n",
        "\n",
        "        # Compute cost for each individual\n",
        "        costs = np.array([])\n",
        "        for indiv in new_popu:\n",
        "            costs = np.append(costs, compute_cost(indiv.astype(int), np.array(data)))\n",
        "\n",
        "        # Select best individuals\n",
        "        best = np.argsort(costs)[:1000]\n",
        "        best_popu = [new_popu[i] for i in best]\n",
        "        #print(f'Generaton {generation}: {min(costs)}') # Uncomment to see the cost of the best individual in each generation\n",
        "\n",
        "    best = np.argsort(costs)[:1] # Select the best individual\n",
        "    best_popu = [new_popu[i] for i in best]\n",
        "    print(f'Best Population: {best_popu[0]}, with cost:  {costs[best][0]}')\n"
      ]
    },
    {
      "cell_type": "markdown",
      "metadata": {},
      "source": [
        "Resolver este problema por fuerza bruta no es viable, así que el algoritmo genético concede una alternativa para solucionarlo. Veremos más adelante que el menor coste encontrado tras 15 generaciones es 27, lo cual mejora considerablemente la solución encontrada tras 100000 iteraciones del primer algoritmo."
      ]
    },
    {
      "cell_type": "markdown",
      "metadata": {
        "id": "eGDB4K6uk1iN"
      },
      "source": [
        "(*)Calcula la complejidad del algoritmo"
      ]
    },
    {
      "cell_type": "markdown",
      "metadata": {
        "id": "NhpTh_BPk1ms"
      },
      "source": [
        "Respuesta"
      ]
    },
    {
      "cell_type": "markdown",
      "metadata": {
        "id": "nREzhkStlCq8"
      },
      "source": [
        "La complejidad del problema depende de la definición de tres hiperparámetros:\n",
        "- El número de generaciones que se computan (g)\n",
        "- El tamaño de la población que sobrevive (p)\n",
        "- Y de los hijos que se generan a partir de cada superviviente (h)\n",
        "\n",
        "En nuestra implementación se ha separado la computación de la función objetivo del bucle que genera los nuevos individuos, así que hay dos bucles con el mismo número de iteraciones, dejándonos con: O(g*(2*(p\\*h))) que finalmente queda como O(g\\*p*h)"
      ]
    },
    {
      "cell_type": "markdown",
      "metadata": {
        "id": "3M6QjTsSkmYe"
      },
      "source": [
        "Según el problema (y tenga sentido), diseña un juego de datos de entrada aleatorios"
      ]
    },
    {
      "cell_type": "markdown",
      "metadata": {
        "id": "Jc3_OlyNkvjZ"
      },
      "source": [
        "Respuesta"
      ]
    },
    {
      "cell_type": "code",
      "execution_count": 17,
      "metadata": {
        "id": "sJ-N2etjkyWc"
      },
      "outputs": [],
      "source": [
        "# Podemos consider que los datos de entrada aleatorios sea la población inicial:\n",
        "array = np.array([i for i in range(1, 31)]) # Create array of assignments toma - dia\n",
        "best_popu = [np.random.permutation(array) for i in range(1000)] # Generate initial population"
      ]
    },
    {
      "cell_type": "markdown",
      "metadata": {
        "id": "zy5ZROmjlGo1"
      },
      "source": [
        "Aplica el algoritmo al juego de datos generado"
      ]
    },
    {
      "cell_type": "markdown",
      "metadata": {
        "id": "_Cmj-PVylMsa"
      },
      "source": [
        "Respuesta"
      ]
    },
    {
      "cell_type": "code",
      "execution_count": 16,
      "metadata": {
        "id": "Jkx8GeiYlUz1"
      },
      "outputs": [
        {
          "name": "stdout",
          "output_type": "stream",
          "text": [
            "Best Population: [25.  5.  4.  9. 30. 16. 11.  8. 21. 10. 29. 26.  3. 15.  6. 28. 13.  7.\n",
            "  1. 22. 20. 12.  2. 27. 18. 24. 19. 17. 14. 23.], with cost:  27.0\n",
            "Best Population: [27.  9. 25.  6. 16.  7. 24. 19. 14. 23. 21. 18.  2. 13. 30. 20. 17. 28.\n",
            "  5. 15.  4. 22.  3. 11. 26. 12.  1. 10. 29.  8.], with cost:  27.0\n",
            "Best Population: [29.  8. 11. 21. 10. 26. 28.  9. 27. 25. 16.  6. 18. 17. 14. 23. 24. 19.\n",
            "  7.  2. 12. 22.  1. 20. 30.  3.  4. 13. 15.  5.], with cost:  27.0\n"
          ]
        }
      ],
      "source": [
        "for _ in range(3): # Generate 3 different initial populations and run the genetic algorithm\n",
        "    array = np.array([i for i in range(1, 31)]) # Create array of assignments toma - dia\n",
        "    best_popu = [np.random.permutation(array) for i in range(1000)] # Generate initial population\n",
        "    genetic_algorithm(best_popu) # Run the genetic algorithm"
      ]
    },
    {
      "cell_type": "markdown",
      "metadata": {
        "id": "eTFWUJQrtGcv"
      },
      "source": [
        "Enumera las referencias que has utilizado(si ha sido necesario) para llevar a cabo el trabajo"
      ]
    },
    {
      "cell_type": "markdown",
      "metadata": {
        "id": "YKQ_mRBttWsP"
      },
      "source": [
        "Respuesta"
      ]
    },
    {
      "cell_type": "markdown",
      "metadata": {},
      "source": [
        "[1] Manual de la asignatura, *Raúl Reyero Díez* <br>"
      ]
    },
    {
      "cell_type": "markdown",
      "metadata": {
        "id": "kAkDPUyRtYyH"
      },
      "source": [
        "Describe brevemente las lineas de como crees que es posible avanzar en el estudio del problema. Ten en cuenta incluso posibles variaciones del problema y/o variaciones al alza del tamaño"
      ]
    },
    {
      "cell_type": "markdown",
      "metadata": {
        "id": "IE0uZmo-tZu-"
      },
      "source": [
        "Respuesta"
      ]
    },
    {
      "cell_type": "markdown",
      "metadata": {},
      "source": [
        "Como trabajo futuro, se podría considerar no coger solo a los mejores individuos de la población, introduciendo una probabilidad de que se escojan soluciones peores (como en GRASP), de manera que aumentara la búsqueda en amplitud.\n",
        "\n",
        "Durante la etapa inicial del proyecto se consideró aplicar un algoritmo voraz, que construyera la solución mirando los actores ya asignados, de manera que se maximizara el número de tomas que hace un actor durante un día. Sería muy interesante ver si una solución voraz puede aportar una mejor solución para este problema. \n",
        "\n",
        "Por otro lado, durante la fase de diseño del algoritmo se impuso la restricción de que las tomas se realizaran a lo largo de 5 días, ya que cuadra bien teniendo en cuenta que hay 30 tomas a grabar y cada día se graban 6 como máximo. No obstante, nada garantiza que no se puedan encontrar soluciones mejores si se considera realizar las tomas en más días, así que sería un buen factor a explorar.\n",
        "\n",
        "Por último, se me ocurre una variación del problema en el que hay actores que se llevan mal y exigen cobrar más por trabajar juntos, de manera que haya una sola variable a optimizar, pero que dependa de varios factores."
      ]
    }
  ],
  "metadata": {
    "colab": {
      "provenance": []
    },
    "kernelspec": {
      "display_name": "Python 3",
      "name": "python3"
    },
    "language_info": {
      "codemirror_mode": {
        "name": "ipython",
        "version": 3
      },
      "file_extension": ".py",
      "mimetype": "text/x-python",
      "name": "python",
      "nbconvert_exporter": "python",
      "pygments_lexer": "ipython3",
      "version": "3.10.12"
    }
  },
  "nbformat": 4,
  "nbformat_minor": 0
}
